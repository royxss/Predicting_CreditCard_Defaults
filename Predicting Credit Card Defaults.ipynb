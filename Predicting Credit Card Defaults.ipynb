{
 "cells": [
  {
   "cell_type": "markdown",
   "metadata": {},
   "source": [
    "Function backwards() that implements the backward selection algorithm using AIC."
   ]
  },
  {
   "cell_type": "code",
   "execution_count": 2,
   "metadata": {
    "collapsed": true
   },
   "outputs": [],
   "source": [
    "createModelFormula <- function(yvar, xVars, includeIntercept = TRUE){\n",
    "  if(includeIntercept){\n",
    "    modelForm <- as.formula(paste(yvar, \"~\", paste(xVars, collapse = '+ ')))\n",
    "  } else {\n",
    "    modelForm <- as.formula(paste(yvar, \"~\", paste(xVars, collapse = '+ '), -1))\n",
    "  }\n",
    "  return(modelForm)\n",
    "}\n",
    "\n",
    "getGlmAIC <- function(formulastr, df){\n",
    "  formula <- as.formula(formulastr)\n",
    "  fit <- glm(formula, data = df)\n",
    "  return (AIC(fit))\n",
    "}\n",
    "\n",
    "backwards <- function(fullformulaNoPK,df){\n",
    "  \n",
    "  ## Extract and convert formula to string\n",
    "  fullformulaExtract <- all.vars(fullformulaNoPK)\n",
    "  fullformulaStrNoPK <- paste(fullformulaExtract[1], \"~\", paste(fullformulaExtract[-1], collapse = ' + '))\n",
    "  \n",
    "  ## Separate variables from model formula\n",
    "  xvars <- strsplit(fullformulaStrNoPK, \"\\\\+\")\n",
    "  yvar <- strsplit(xvars[[1]][[1]], \"\\\\~\")\n",
    "  xvars <- trimws(c(yvar[[1]][[2]],(setdiff(xvars[[1]],xvars[[1]][[1]]))))\n",
    "  yvar <- trimws(yvar[[1]][[1]])\n",
    "  \n",
    "  ## Full model AIC\n",
    "  fullAIC <- getGlmAIC(fullformulaStrNoPK, df)\n",
    "  print(paste0(\"Full Model : \", fullformulaStrNoPK))\n",
    "  print(paste0(\"Full Model AIC : \",fullAIC))\n",
    "  \n",
    "  ## Iterate to find the best aic model\n",
    "  while(TRUE){\n",
    "    modelForm <- createModelFormula(yvar, xvars)\n",
    "    aic <- getGlmAIC(modelForm,df)\n",
    "    newAIC <- c()\n",
    "    \n",
    "    \n",
    "    for (i in (1:length(xvars))){\n",
    "      newxvars <- xvars[-i]\n",
    "      newModel <- createModelFormula(yvar, newxvars)\n",
    "      newAIC <- c(newAIC, getGlmAIC(newModel, df))\n",
    "    }\n",
    "    \n",
    "    if (aic < min(newAIC)){\n",
    "      xvars <- all.vars(modelForm)\n",
    "      xvars <- xvars[xvars != yvar]\n",
    "      print(\"Best Model : \")\n",
    "      print(xvars)\n",
    "      print(paste0(\"Best Model AIC : \", aic))      \n",
    "      break\n",
    "    }\n",
    "    else{\n",
    "      ind <- which(newAIC == min(newAIC))\n",
    "      xvars <- xvars[-ind]\n",
    "    }\n",
    "  }\n",
    "}\n"
   ]
  },
  {
   "cell_type": "markdown",
   "metadata": {},
   "source": [
    "Download the credit card default data set from the UCI machine learning repository. https://archive.ics.uci.edu/ml/datasets/default+of+credit+card+clients\n",
    "Load the data into R."
   ]
  },
  {
   "cell_type": "code",
   "execution_count": 3,
   "metadata": {
    "collapsed": false
   },
   "outputs": [],
   "source": [
    "library(readxl)\n",
    "df <- read_excel(\"C:\\\\Users\\\\SROY\\\\Documents\\\\CodeBase\\\\Datasets\\\\default of credit card clients.xls\",\n",
    "                    skip = 1, col_names = TRUE)"
   ]
  },
  {
   "cell_type": "markdown",
   "metadata": {},
   "source": [
    "Identify all the relevant categorical, numeric, and logical variables."
   ]
  },
  {
   "cell_type": "code",
   "execution_count": 4,
   "metadata": {
    "collapsed": false
   },
   "outputs": [
    {
     "data": {
      "text/plain": [
       "\n",
       "    0     1     2     3     4     5     6 \n",
       "   14 10585 14030  4917   123   280    51 "
      ]
     },
     "metadata": {},
     "output_type": "display_data"
    },
    {
     "data": {
      "text/plain": [
       "\n",
       "    0     1     2     3 \n",
       "   54 13659 15964   323 "
      ]
     },
     "metadata": {},
     "output_type": "display_data"
    },
    {
     "name": "stdout",
     "output_type": "stream",
     "text": [
      "Classes 'tbl_df', 'tbl' and 'data.frame':\t30000 obs. of  25 variables:\n",
      " $ id            : num  1 2 3 4 5 6 7 8 9 10 ...\n",
      " $ limit_bal     : num  20000 120000 90000 50000 50000 50000 500000 100000 140000 20000 ...\n",
      " $ sex           : Factor w/ 2 levels \"1\",\"2\": 2 2 2 2 1 1 1 2 2 1 ...\n",
      " $ education     : Factor w/ 4 levels \"1\",\"2\",\"3\",\"4\": 2 2 2 2 2 1 1 2 3 3 ...\n",
      " $ marriage      : Factor w/ 3 levels \"1\",\"2\",\"3\": 1 2 2 1 1 2 2 2 1 2 ...\n",
      " $ age           : num  24 26 34 37 57 37 29 23 28 35 ...\n",
      " $ pay_1         : num  2 -1 0 0 -1 0 0 0 0 -2 ...\n",
      " $ pay_2         : num  2 2 0 0 0 0 0 -1 0 -2 ...\n",
      " $ pay_3         : num  -1 0 0 0 -1 0 0 -1 2 -2 ...\n",
      " $ pay_4         : num  -1 0 0 0 0 0 0 0 0 -2 ...\n",
      " $ pay_5         : num  -2 0 0 0 0 0 0 0 0 -1 ...\n",
      " $ pay_6         : num  -2 2 0 0 0 0 0 -1 0 -1 ...\n",
      " $ bill_amt1     : num  3913 2682 29239 46990 8617 ...\n",
      " $ bill_amt2     : num  3102 1725 14027 48233 5670 ...\n",
      " $ bill_amt3     : num  689 2682 13559 49291 35835 ...\n",
      " $ bill_amt4     : num  0 3272 14331 28314 20940 ...\n",
      " $ bill_amt5     : num  0 3455 14948 28959 19146 ...\n",
      " $ bill_amt6     : num  0 3261 15549 29547 19131 ...\n",
      " $ pay_amt1      : num  0 0 1518 2000 2000 ...\n",
      " $ pay_amt2      : num  689 1000 1500 2019 36681 ...\n",
      " $ pay_amt3      : num  0 1000 1000 1200 10000 657 38000 0 432 0 ...\n",
      " $ pay_amt4      : num  0 1000 1000 1100 9000 ...\n",
      " $ pay_amt5      : num  0 0 1000 1069 689 ...\n",
      " $ pay_amt6      : num  0 2000 5000 1000 679 ...\n",
      " $ def_next_month: num  1 1 0 0 0 0 0 0 0 0 ...\n"
     ]
    }
   ],
   "source": [
    "## rename PAY_0 column to PAY_1 as it looks like a typo\n",
    "names(df)[names(df) == 'PAY_0'] <- 'PAY_1'\n",
    "names(df)[names(df) == 'default payment next month'] <- 'DEF_NEXT_MONTH'\n",
    "names(df) <- tolower(names(df)) \n",
    "\n",
    "## Gender, Education amd Marital Status are factors\n",
    "\n",
    "## Education has too many levels (7) in dataset\n",
    "## but it should have Education (1 = graduate school; 2 = university; 3 = high school; 4 = others).\n",
    "## we should assign 0, 5, 6 to others 4\n",
    "table(df$education)\n",
    "df$education[df$education >= 5] <- 4\n",
    "df$education[df$education == 0] <- 4\n",
    "\n",
    "## Marriage has 0 which is not defined\n",
    "## Marital status (1 = married; 2 = single; 3 = others)\n",
    "## We can assign 0 to others(3)\n",
    "table(df$marriage)\n",
    "df$marriage[df$marriage == 0] <- 3\n",
    "\n",
    "df <- within(df, {\n",
    "  sex <- factor(sex)\n",
    "  education <- factor(education)\n",
    "  marriage <- factor(marriage)\n",
    "})\n",
    "\n",
    "str(df)\n",
    "numVars <- names(which(sapply(df, is.numeric)))\n",
    "catVars <- names(which(sapply(df, is.factor)))\n",
    "logicalVars <- names(which(sapply(df, is.logical)))\n",
    "stopifnot(length(numVars) + length(catVars) + length(logicalVars)== ncol(df))\n",
    "\n",
    "##numVars = 22; catVars = 3; logicalVars = 0"
   ]
  },
  {
   "cell_type": "markdown",
   "metadata": {},
   "source": [
    "Exploratory Data Analysis"
   ]
  },
  {
   "cell_type": "code",
   "execution_count": 5,
   "metadata": {
    "collapsed": false
   },
   "outputs": [
    {
     "name": "stdout",
     "output_type": "stream",
     "text": [
      "Classes 'tbl_df', 'tbl' and 'data.frame':\t30000 obs. of  25 variables:\n",
      " $ id            : num  1 2 3 4 5 6 7 8 9 10 ...\n",
      " $ limit_bal     : num  20000 120000 90000 50000 50000 50000 500000 100000 140000 20000 ...\n",
      " $ sex           : Factor w/ 2 levels \"1\",\"2\": 2 2 2 2 1 1 1 2 2 1 ...\n",
      " $ education     : Factor w/ 4 levels \"1\",\"2\",\"3\",\"4\": 2 2 2 2 2 1 1 2 3 3 ...\n",
      " $ marriage      : Factor w/ 3 levels \"1\",\"2\",\"3\": 1 2 2 1 1 2 2 2 1 2 ...\n",
      " $ age           : num  24 26 34 37 57 37 29 23 28 35 ...\n",
      " $ pay_1         : num  2 -1 0 0 -1 0 0 0 0 -2 ...\n",
      " $ pay_2         : num  2 2 0 0 0 0 0 -1 0 -2 ...\n",
      " $ pay_3         : num  -1 0 0 0 -1 0 0 -1 2 -2 ...\n",
      " $ pay_4         : num  -1 0 0 0 0 0 0 0 0 -2 ...\n",
      " $ pay_5         : num  -2 0 0 0 0 0 0 0 0 -1 ...\n",
      " $ pay_6         : num  -2 2 0 0 0 0 0 -1 0 -1 ...\n",
      " $ bill_amt1     : num  3913 2682 29239 46990 8617 ...\n",
      " $ bill_amt2     : num  3102 1725 14027 48233 5670 ...\n",
      " $ bill_amt3     : num  689 2682 13559 49291 35835 ...\n",
      " $ bill_amt4     : num  0 3272 14331 28314 20940 ...\n",
      " $ bill_amt5     : num  0 3455 14948 28959 19146 ...\n",
      " $ bill_amt6     : num  0 3261 15549 29547 19131 ...\n",
      " $ pay_amt1      : num  0 0 1518 2000 2000 ...\n",
      " $ pay_amt2      : num  689 1000 1500 2019 36681 ...\n",
      " $ pay_amt3      : num  0 1000 1000 1200 10000 657 38000 0 432 0 ...\n",
      " $ pay_amt4      : num  0 1000 1000 1100 9000 ...\n",
      " $ pay_amt5      : num  0 0 1000 1069 689 ...\n",
      " $ pay_amt6      : num  0 2000 5000 1000 679 ...\n",
      " $ def_next_month: num  1 1 0 0 0 0 0 0 0 0 ...\n"
     ]
    },
    {
     "data": {
      "text/plain": [
       "       id          limit_bal       sex       education marriage \n",
       " Min.   :    1   Min.   :  10000   1:11888   1:10585   1:13659  \n",
       " 1st Qu.: 7501   1st Qu.:  50000   2:18112   2:14030   2:15964  \n",
       " Median :15000   Median : 140000             3: 4917   3:  377  \n",
       " Mean   :15000   Mean   : 167484             4:  468            \n",
       " 3rd Qu.:22500   3rd Qu.: 240000                                \n",
       " Max.   :30000   Max.   :1000000                                \n",
       "      age            pay_1             pay_2             pay_3        \n",
       " Min.   :21.00   Min.   :-2.0000   Min.   :-2.0000   Min.   :-2.0000  \n",
       " 1st Qu.:28.00   1st Qu.:-1.0000   1st Qu.:-1.0000   1st Qu.:-1.0000  \n",
       " Median :34.00   Median : 0.0000   Median : 0.0000   Median : 0.0000  \n",
       " Mean   :35.49   Mean   :-0.0167   Mean   :-0.1338   Mean   :-0.1662  \n",
       " 3rd Qu.:41.00   3rd Qu.: 0.0000   3rd Qu.: 0.0000   3rd Qu.: 0.0000  \n",
       " Max.   :79.00   Max.   : 8.0000   Max.   : 8.0000   Max.   : 8.0000  \n",
       "     pay_4             pay_5             pay_6           bill_amt1      \n",
       " Min.   :-2.0000   Min.   :-2.0000   Min.   :-2.0000   Min.   :-165580  \n",
       " 1st Qu.:-1.0000   1st Qu.:-1.0000   1st Qu.:-1.0000   1st Qu.:   3559  \n",
       " Median : 0.0000   Median : 0.0000   Median : 0.0000   Median :  22382  \n",
       " Mean   :-0.2207   Mean   :-0.2662   Mean   :-0.2911   Mean   :  51223  \n",
       " 3rd Qu.: 0.0000   3rd Qu.: 0.0000   3rd Qu.: 0.0000   3rd Qu.:  67091  \n",
       " Max.   : 8.0000   Max.   : 8.0000   Max.   : 8.0000   Max.   : 964511  \n",
       "   bill_amt2        bill_amt3         bill_amt4         bill_amt5     \n",
       " Min.   :-69777   Min.   :-157264   Min.   :-170000   Min.   :-81334  \n",
       " 1st Qu.:  2985   1st Qu.:   2666   1st Qu.:   2327   1st Qu.:  1763  \n",
       " Median : 21200   Median :  20089   Median :  19052   Median : 18105  \n",
       " Mean   : 49179   Mean   :  47013   Mean   :  43263   Mean   : 40311  \n",
       " 3rd Qu.: 64006   3rd Qu.:  60165   3rd Qu.:  54506   3rd Qu.: 50191  \n",
       " Max.   :983931   Max.   :1664089   Max.   : 891586   Max.   :927171  \n",
       "   bill_amt6          pay_amt1         pay_amt2          pay_amt3     \n",
       " Min.   :-339603   Min.   :     0   Min.   :      0   Min.   :     0  \n",
       " 1st Qu.:   1256   1st Qu.:  1000   1st Qu.:    833   1st Qu.:   390  \n",
       " Median :  17071   Median :  2100   Median :   2009   Median :  1800  \n",
       " Mean   :  38872   Mean   :  5664   Mean   :   5921   Mean   :  5226  \n",
       " 3rd Qu.:  49198   3rd Qu.:  5006   3rd Qu.:   5000   3rd Qu.:  4505  \n",
       " Max.   : 961664   Max.   :873552   Max.   :1684259   Max.   :896040  \n",
       "    pay_amt4         pay_amt5           pay_amt6        def_next_month  \n",
       " Min.   :     0   Min.   :     0.0   Min.   :     0.0   Min.   :0.0000  \n",
       " 1st Qu.:   296   1st Qu.:   252.5   1st Qu.:   117.8   1st Qu.:0.0000  \n",
       " Median :  1500   Median :  1500.0   Median :  1500.0   Median :0.0000  \n",
       " Mean   :  4826   Mean   :  4799.4   Mean   :  5215.5   Mean   :0.2212  \n",
       " 3rd Qu.:  4013   3rd Qu.:  4031.5   3rd Qu.:  4000.0   3rd Qu.:0.0000  \n",
       " Max.   :621000   Max.   :426529.0   Max.   :528666.0   Max.   :1.0000  "
      ]
     },
     "metadata": {},
     "output_type": "display_data"
    },
    {
     "data": {
      "text/plain": [
       "       id          limit_bal       sex       education marriage \n",
       " Min.   :    1   Min.   :  10000   1:11888   1:10585   1:13659  \n",
       " 1st Qu.: 7501   1st Qu.:  50000   2:18112   2:14030   2:15964  \n",
       " Median :15000   Median : 140000             3: 4917   3:  377  \n",
       " Mean   :15000   Mean   : 167484             4:  468            \n",
       " 3rd Qu.:22500   3rd Qu.: 240000                                \n",
       " Max.   :30000   Max.   :1000000                                \n",
       "      age            pay_1             pay_2             pay_3        \n",
       " Min.   :21.00   Min.   :-2.0000   Min.   :-2.0000   Min.   :-2.0000  \n",
       " 1st Qu.:28.00   1st Qu.:-1.0000   1st Qu.:-1.0000   1st Qu.:-1.0000  \n",
       " Median :34.00   Median : 0.0000   Median : 0.0000   Median : 0.0000  \n",
       " Mean   :35.49   Mean   :-0.0167   Mean   :-0.1338   Mean   :-0.1662  \n",
       " 3rd Qu.:41.00   3rd Qu.: 0.0000   3rd Qu.: 0.0000   3rd Qu.: 0.0000  \n",
       " Max.   :79.00   Max.   : 8.0000   Max.   : 8.0000   Max.   : 8.0000  \n",
       "     pay_4             pay_5             pay_6           bill_amt1      \n",
       " Min.   :-2.0000   Min.   :-2.0000   Min.   :-2.0000   Min.   :-165580  \n",
       " 1st Qu.:-1.0000   1st Qu.:-1.0000   1st Qu.:-1.0000   1st Qu.:   3559  \n",
       " Median : 0.0000   Median : 0.0000   Median : 0.0000   Median :  22382  \n",
       " Mean   :-0.2207   Mean   :-0.2662   Mean   :-0.2911   Mean   :  51223  \n",
       " 3rd Qu.: 0.0000   3rd Qu.: 0.0000   3rd Qu.: 0.0000   3rd Qu.:  67091  \n",
       " Max.   : 8.0000   Max.   : 8.0000   Max.   : 8.0000   Max.   : 964511  \n",
       "   bill_amt2        bill_amt3         bill_amt4         bill_amt5     \n",
       " Min.   :-69777   Min.   :-157264   Min.   :-170000   Min.   :-81334  \n",
       " 1st Qu.:  2985   1st Qu.:   2666   1st Qu.:   2327   1st Qu.:  1763  \n",
       " Median : 21200   Median :  20089   Median :  19052   Median : 18105  \n",
       " Mean   : 49179   Mean   :  47013   Mean   :  43263   Mean   : 40311  \n",
       " 3rd Qu.: 64006   3rd Qu.:  60165   3rd Qu.:  54506   3rd Qu.: 50191  \n",
       " Max.   :983931   Max.   :1664089   Max.   : 891586   Max.   :927171  \n",
       "   bill_amt6          pay_amt1         pay_amt2          pay_amt3     \n",
       " Min.   :-339603   Min.   :     0   Min.   :      0   Min.   :     0  \n",
       " 1st Qu.:   1256   1st Qu.:  1000   1st Qu.:    833   1st Qu.:   390  \n",
       " Median :  17071   Median :  2100   Median :   2009   Median :  1800  \n",
       " Mean   :  38872   Mean   :  5664   Mean   :   5921   Mean   :  5226  \n",
       " 3rd Qu.:  49198   3rd Qu.:  5006   3rd Qu.:   5000   3rd Qu.:  4505  \n",
       " Max.   : 961664   Max.   :873552   Max.   :1684259   Max.   :896040  \n",
       "    pay_amt4         pay_amt5           pay_amt6        def_next_month  \n",
       " Min.   :     0   Min.   :     0.0   Min.   :     0.0   Min.   :0.0000  \n",
       " 1st Qu.:   296   1st Qu.:   252.5   1st Qu.:   117.8   1st Qu.:0.0000  \n",
       " Median :  1500   Median :  1500.0   Median :  1500.0   Median :0.0000  \n",
       " Mean   :  4826   Mean   :  4799.4   Mean   :  5215.5   Mean   :0.2212  \n",
       " 3rd Qu.:  4013   3rd Qu.:  4031.5   3rd Qu.:  4000.0   3rd Qu.:0.0000  \n",
       " Max.   :621000   Max.   :426529.0   Max.   :528666.0   Max.   :1.0000  "
      ]
     },
     "metadata": {},
     "output_type": "display_data"
    },
    {
     "data": {
      "text/html": [
       "<dl class=dl-horizontal>\n",
       "\t<dt>id</dt>\n",
       "\t\t<dd>0</dd>\n",
       "\t<dt>limit_bal</dt>\n",
       "\t\t<dd>0</dd>\n",
       "\t<dt>sex</dt>\n",
       "\t\t<dd>0</dd>\n",
       "\t<dt>education</dt>\n",
       "\t\t<dd>0</dd>\n",
       "\t<dt>marriage</dt>\n",
       "\t\t<dd>0</dd>\n",
       "\t<dt>age</dt>\n",
       "\t\t<dd>0</dd>\n",
       "\t<dt>pay_1</dt>\n",
       "\t\t<dd>0</dd>\n",
       "\t<dt>pay_2</dt>\n",
       "\t\t<dd>0</dd>\n",
       "\t<dt>pay_3</dt>\n",
       "\t\t<dd>0</dd>\n",
       "\t<dt>pay_4</dt>\n",
       "\t\t<dd>0</dd>\n",
       "\t<dt>pay_5</dt>\n",
       "\t\t<dd>0</dd>\n",
       "\t<dt>pay_6</dt>\n",
       "\t\t<dd>0</dd>\n",
       "\t<dt>bill_amt1</dt>\n",
       "\t\t<dd>0</dd>\n",
       "\t<dt>bill_amt2</dt>\n",
       "\t\t<dd>0</dd>\n",
       "\t<dt>bill_amt3</dt>\n",
       "\t\t<dd>0</dd>\n",
       "\t<dt>bill_amt4</dt>\n",
       "\t\t<dd>0</dd>\n",
       "\t<dt>bill_amt5</dt>\n",
       "\t\t<dd>0</dd>\n",
       "\t<dt>bill_amt6</dt>\n",
       "\t\t<dd>0</dd>\n",
       "\t<dt>pay_amt1</dt>\n",
       "\t\t<dd>0</dd>\n",
       "\t<dt>pay_amt2</dt>\n",
       "\t\t<dd>0</dd>\n",
       "\t<dt>pay_amt3</dt>\n",
       "\t\t<dd>0</dd>\n",
       "\t<dt>pay_amt4</dt>\n",
       "\t\t<dd>0</dd>\n",
       "\t<dt>pay_amt5</dt>\n",
       "\t\t<dd>0</dd>\n",
       "\t<dt>pay_amt6</dt>\n",
       "\t\t<dd>0</dd>\n",
       "\t<dt>def_next_month</dt>\n",
       "\t\t<dd>0</dd>\n",
       "</dl>\n"
      ],
      "text/latex": [
       "\\begin{description*}\n",
       "\\item[id] 0\n",
       "\\item[limit\\textbackslash{}\\_bal] 0\n",
       "\\item[sex] 0\n",
       "\\item[education] 0\n",
       "\\item[marriage] 0\n",
       "\\item[age] 0\n",
       "\\item[pay\\textbackslash{}\\_1] 0\n",
       "\\item[pay\\textbackslash{}\\_2] 0\n",
       "\\item[pay\\textbackslash{}\\_3] 0\n",
       "\\item[pay\\textbackslash{}\\_4] 0\n",
       "\\item[pay\\textbackslash{}\\_5] 0\n",
       "\\item[pay\\textbackslash{}\\_6] 0\n",
       "\\item[bill\\textbackslash{}\\_amt1] 0\n",
       "\\item[bill\\textbackslash{}\\_amt2] 0\n",
       "\\item[bill\\textbackslash{}\\_amt3] 0\n",
       "\\item[bill\\textbackslash{}\\_amt4] 0\n",
       "\\item[bill\\textbackslash{}\\_amt5] 0\n",
       "\\item[bill\\textbackslash{}\\_amt6] 0\n",
       "\\item[pay\\textbackslash{}\\_amt1] 0\n",
       "\\item[pay\\textbackslash{}\\_amt2] 0\n",
       "\\item[pay\\textbackslash{}\\_amt3] 0\n",
       "\\item[pay\\textbackslash{}\\_amt4] 0\n",
       "\\item[pay\\textbackslash{}\\_amt5] 0\n",
       "\\item[pay\\textbackslash{}\\_amt6] 0\n",
       "\\item[def\\textbackslash{}\\_next\\textbackslash{}\\_month] 0\n",
       "\\end{description*}\n"
      ],
      "text/markdown": [
       "id\n",
       ":   0limit_bal\n",
       ":   0sex\n",
       ":   0education\n",
       ":   0marriage\n",
       ":   0age\n",
       ":   0pay_1\n",
       ":   0pay_2\n",
       ":   0pay_3\n",
       ":   0pay_4\n",
       ":   0pay_5\n",
       ":   0pay_6\n",
       ":   0bill_amt1\n",
       ":   0bill_amt2\n",
       ":   0bill_amt3\n",
       ":   0bill_amt4\n",
       ":   0bill_amt5\n",
       ":   0bill_amt6\n",
       ":   0pay_amt1\n",
       ":   0pay_amt2\n",
       ":   0pay_amt3\n",
       ":   0pay_amt4\n",
       ":   0pay_amt5\n",
       ":   0pay_amt6\n",
       ":   0def_next_month\n",
       ":   0\n",
       "\n"
      ],
      "text/plain": [
       "            id      limit_bal            sex      education       marriage \n",
       "             0              0              0              0              0 \n",
       "           age          pay_1          pay_2          pay_3          pay_4 \n",
       "             0              0              0              0              0 \n",
       "         pay_5          pay_6      bill_amt1      bill_amt2      bill_amt3 \n",
       "             0              0              0              0              0 \n",
       "     bill_amt4      bill_amt5      bill_amt6       pay_amt1       pay_amt2 \n",
       "             0              0              0              0              0 \n",
       "      pay_amt3       pay_amt4       pay_amt5       pay_amt6 def_next_month \n",
       "             0              0              0              0              0 "
      ]
     },
     "metadata": {},
     "output_type": "display_data"
    },
    {
     "data": {},
     "metadata": {},
     "output_type": "display_data"
    },
    {
     "data": {
      "image/png": "[encoded data removed]",
      "text/plain": [
       "plot without title"
      ]
     },
     "metadata": {},
     "output_type": "display_data"
    },
    {
     "data": {},
     "metadata": {},
     "output_type": "display_data"
    },
    {
     "data": {
      "image/png": "[encoded data removed]",
      "text/plain": [
       "plot without title"
      ]
     },
     "metadata": {},
     "output_type": "display_data"
    },
    {
     "name": "stderr",
     "output_type": "stream",
     "text": [
      "Warning message in self$trans$transform(x):\n",
      "\"NaNs produced\"Warning message:\n",
      "\"Transformation introduced infinite values in continuous x-axis\"Warning message:\n",
      "\"Transformation introduced infinite values in continuous x-axis\"Warning message:\n",
      "\"Removed 2598 rows containing non-finite values (stat_density).\"Warning message:\n",
      "\"Removed 5249 rows containing non-finite values (stat_density).\""
     ]
    },
    {
     "data": {},
     "metadata": {},
     "output_type": "display_data"
    },
    {
     "data": {
      "image/png": "[encoded data removed]",
      "text/plain": [
       "plot without title"
      ]
     },
     "metadata": {},
     "output_type": "display_data"
    },
    {
     "name": "stderr",
     "output_type": "stream",
     "text": [
      "`stat_bin()` using `bins = 30`. Pick better value with `binwidth`.\n"
     ]
    },
    {
     "data": {},
     "metadata": {},
     "output_type": "display_data"
    },
    {
     "data": {
      "image/png": "[encoded data removed]",
      "text/plain": [
       "plot without title"
      ]
     },
     "metadata": {},
     "output_type": "display_data"
    },
    {
     "name": "stderr",
     "output_type": "stream",
     "text": [
      "`stat_bin()` using `bins = 30`. Pick better value with `binwidth`.\n"
     ]
    },
    {
     "data": {},
     "metadata": {},
     "output_type": "display_data"
    },
    {
     "data": {
      "image/png": "[encoded data removed]",
      "text/plain": [
       "plot without title"
      ]
     },
     "metadata": {},
     "output_type": "display_data"
    },
    {
     "data": {
      "text/html": [
       "<table>\n",
       "<thead><tr><th></th><th scope=col>Var1</th><th scope=col>Var2</th><th scope=col>Freq</th></tr></thead>\n",
       "<tbody>\n",
       "\t<tr><th scope=row>230</th><td>bill_amt1</td><td>bill_amt2</td><td>0.9514837</td></tr>\n",
       "\t<tr><th scope=row>322</th><td>bill_amt5</td><td>bill_amt6</td><td>0.9461968</td></tr>\n",
       "\t<tr><th scope=row>299</th><td>bill_amt4</td><td>bill_amt5</td><td>0.9401344</td></tr>\n",
       "\t<tr><th scope=row>253</th><td>bill_amt2</td><td>bill_amt3</td><td>0.9283263</td></tr>\n",
       "\t<tr><th scope=row>276</th><td>bill_amt3</td><td>bill_amt4</td><td>0.9239695</td></tr>\n",
       "\t<tr><th scope=row>321</th><td>bill_amt4</td><td>bill_amt6</td><td>0.9009410</td></tr>\n",
       "\t<tr><th scope=row>275</th><td>bill_amt2</td><td>bill_amt4</td><td>0.8924823</td></tr>\n",
       "\t<tr><th scope=row>252</th><td>bill_amt1</td><td>bill_amt3</td><td>0.8922785</td></tr>\n",
       "\t<tr><th scope=row>298</th><td>bill_amt3</td><td>bill_amt5</td><td>0.8839097</td></tr>\n",
       "\t<tr><th scope=row>274</th><td>bill_amt1</td><td>bill_amt4</td><td>0.8602722</td></tr>\n",
       "</tbody>\n",
       "</table>\n"
      ],
      "text/latex": [
       "\\begin{tabular}{r|lll}\n",
       "  & Var1 & Var2 & Freq\\\\\n",
       "\\hline\n",
       "\t230 & bill\\_amt1 & bill\\_amt2 & 0.9514837  \\\\\n",
       "\t322 & bill\\_amt5 & bill\\_amt6 & 0.9461968  \\\\\n",
       "\t299 & bill\\_amt4 & bill\\_amt5 & 0.9401344  \\\\\n",
       "\t253 & bill\\_amt2 & bill\\_amt3 & 0.9283263  \\\\\n",
       "\t276 & bill\\_amt3 & bill\\_amt4 & 0.9239695  \\\\\n",
       "\t321 & bill\\_amt4 & bill\\_amt6 & 0.9009410  \\\\\n",
       "\t275 & bill\\_amt2 & bill\\_amt4 & 0.8924823  \\\\\n",
       "\t252 & bill\\_amt1 & bill\\_amt3 & 0.8922785  \\\\\n",
       "\t298 & bill\\_amt3 & bill\\_amt5 & 0.8839097  \\\\\n",
       "\t274 & bill\\_amt1 & bill\\_amt4 & 0.8602722  \\\\\n",
       "\\end{tabular}\n"
      ],
      "text/markdown": [
       "\n",
       "| <!--/--> | Var1 | Var2 | Freq | \n",
       "|---|---|---|---|---|---|---|---|---|---|\n",
       "| 230 | bill_amt1 | bill_amt2 | 0.9514837 | \n",
       "| 322 | bill_amt5 | bill_amt6 | 0.9461968 | \n",
       "| 299 | bill_amt4 | bill_amt5 | 0.9401344 | \n",
       "| 253 | bill_amt2 | bill_amt3 | 0.9283263 | \n",
       "| 276 | bill_amt3 | bill_amt4 | 0.9239695 | \n",
       "| 321 | bill_amt4 | bill_amt6 | 0.9009410 | \n",
       "| 275 | bill_amt2 | bill_amt4 | 0.8924823 | \n",
       "| 252 | bill_amt1 | bill_amt3 | 0.8922785 | \n",
       "| 298 | bill_amt3 | bill_amt5 | 0.8839097 | \n",
       "| 274 | bill_amt1 | bill_amt4 | 0.8602722 | \n",
       "\n",
       "\n"
      ],
      "text/plain": [
       "    Var1      Var2      Freq     \n",
       "230 bill_amt1 bill_amt2 0.9514837\n",
       "322 bill_amt5 bill_amt6 0.9461968\n",
       "299 bill_amt4 bill_amt5 0.9401344\n",
       "253 bill_amt2 bill_amt3 0.9283263\n",
       "276 bill_amt3 bill_amt4 0.9239695\n",
       "321 bill_amt4 bill_amt6 0.9009410\n",
       "275 bill_amt2 bill_amt4 0.8924823\n",
       "252 bill_amt1 bill_amt3 0.8922785\n",
       "298 bill_amt3 bill_amt5 0.8839097\n",
       "274 bill_amt1 bill_amt4 0.8602722"
      ]
     },
     "metadata": {},
     "output_type": "display_data"
    },
    {
     "data": {},
     "metadata": {},
     "output_type": "display_data"
    },
    {
     "data": {
      "image/png": "[encoded data removed]",
      "text/plain": [
       "plot without title"
      ]
     },
     "metadata": {},
     "output_type": "display_data"
    },
    {
     "data": {},
     "metadata": {},
     "output_type": "display_data"
    },
    {
     "data": {
      "image/png": "[encoded data removed]",
      "text/plain": [
       "plot without title"
      ]
     },
     "metadata": {},
     "output_type": "display_data"
    },
    {
     "data": {},
     "metadata": {},
     "output_type": "display_data"
    },
    {
     "data": {
      "image/png": "[encoded data removed]",
      "text/plain": [
       "plot without title"
      ]
     },
     "metadata": {},
     "output_type": "display_data"
    },
    {
     "data": {},
     "metadata": {},
     "output_type": "display_data"
    },
    {
     "data": {
      "image/png": "[encoded data removed]",
      "text/plain": [
       "plot without title"
      ]
     },
     "metadata": {},
     "output_type": "display_data"
    },
    {
     "data": {},
     "metadata": {},
     "output_type": "display_data"
    },
    {
     "data": {
      "image/png": "[encoded data removed]",
      "text/plain": [
       "plot without title"
      ]
     },
     "metadata": {},
     "output_type": "display_data"
    },
    {
     "data": {
      "image/png": "[encoded data removed]",
      "text/plain": [
       "plot without title"
      ]
     },
     "metadata": {},
     "output_type": "display_data"
    }
   ],
   "source": [
    "str(df)\n",
    "summary(df)\n",
    "## Levels of categorical variable looks fine\n",
    "## if pay = -1 is duly paid, -2 has no meaning as per documentation.\n",
    "## also the value 0 is unexplained. This also indicates 0 is duly paid\n",
    "\n",
    "## bill payment has negative values. \n",
    "## it may indicate paid in advanced or refunds.\n",
    "\n",
    "summary(df)\n",
    "## Check any other data issues\n",
    "data_issues <- apply(df, 2, function(x) length(which(x == \"\" | x == \"?\" | is.na(x) | x == \"NA\")))\n",
    "data_issues ## No other data issues\n",
    "\n",
    "## Boxplot - too many outliers\n",
    "boxplot(df[,numVars])\n",
    "\n",
    "## density plot\n",
    "library(ggplot2)\n",
    "ggplot(df) + geom_density(aes(x= bill_amt1)) ## Skewed to lower values\n",
    "ggplot(df) + geom_density(aes(x= pay_amt1))  ## Very highly skewed to lower values\n",
    "\n",
    "## Rescaling pay and bill amount into one map using ggplot density\n",
    "ggplot(df) + geom_density(aes(x= bill_amt1, fill=factor(def_next_month))) + \n",
    "  geom_density(aes(x= pay_amt1, fill=factor(def_next_month))) + scale_x_log10() +\n",
    "  scale_fill_manual( values = c(\"red\",\"blue\"))\n",
    "## pay amt is highly skewed\n",
    "## Indicates small portion is being paid off every month\n",
    "\n",
    "ggplot(df) + geom_histogram(aes(x= bill_amt1, fill=factor(def_next_month))) ## Negative values. High frequency of low bill amounts\n",
    "ggplot(df) + geom_histogram(aes(x= pay_amt1, fill=factor(def_next_month))) ## Very high frequency of low payments made\n",
    "## Verified on other columns\n",
    "\n",
    "## Correlation matrix\n",
    "corMat <- cor(df[,numVars])\n",
    "\n",
    "corMatrix <- corMat\n",
    "corMatrix[lower.tri(corMatrix,diag=TRUE)]=NA\n",
    "corMatrix=as.data.frame(as.table(corMatrix))\n",
    "corMatrix=na.omit(corMatrix)\n",
    "corMatrix=corMatrix[order(-abs(corMatrix$Freq)),]\n",
    "corMatrix[1:10,]\n",
    "\n",
    "ggplot(data = corMatrix, aes(x=Var1, y=Var2, fill = Freq)) + geom_tile()\n",
    "## bill_amt has a strong positive relationship between consecutive months.\n",
    "\n",
    "## Bar chart of factor variables grouping on target labels\n",
    "ggplot(df, aes(x = education, fill = as.factor(def_next_month))) + \n",
    "  geom_bar() + labs(x = 'Education') + \n",
    "  scale_x_discrete(labels = c(\"graduate school\",\"university\", \"high school\", \"others\"))\n",
    "\n",
    "## More university defaults. Not very conclusive as count is also more.\n",
    "ggplot(df, aes(x = sex, fill = as.factor(def_next_month))) + \n",
    "  geom_bar() + labs(x = 'Sex') + scale_x_discrete(labels = c(\"male\",\"female\"))\n",
    "\n",
    "## Females are slightly more defaulted. Again not very conclusive.\n",
    "ggplot(df, aes(x = as.factor(age), fill = as.factor(def_next_month))) + \n",
    "  geom_bar() + labs(x = 'Age')\n",
    "\n",
    "## More default in age group 20-30 when compared to the count\n",
    "ggplot(df, aes(x = marriage, fill = as.factor(def_next_month))) + \n",
    "  geom_bar() + labs(x = 'marriage') + scale_x_discrete(labels = c(\"married\",\"single\",\"others\"))\n",
    "## same number of defaults"
   ]
  },
  {
   "cell_type": "markdown",
   "metadata": {},
   "source": [
    "Logistic regression model to determine whether or not a customer defaulted. Using all of the variables. Validate the model on a test data set."
   ]
  },
  {
   "cell_type": "code",
   "execution_count": 6,
   "metadata": {
    "collapsed": false
   },
   "outputs": [
    {
     "name": "stderr",
     "output_type": "stream",
     "text": [
      "Warning message:\n",
      "\"package 'caret' was built under R version 3.3.3\""
     ]
    },
    {
     "ename": "ERROR",
     "evalue": "Error: package 'lattice' required by 'caret' could not be found\n",
     "output_type": "error",
     "traceback": [
      "Error: package 'lattice' required by 'caret' could not be found\nTraceback:\n",
      "1. library(\"caret\")",
      "2. .getRequiredPackages2(pkgInfo, quietly = quietly)",
      "3. stop(gettextf(\"package %s required by %s could not be found\", \n .     sQuote(pkg), sQuote(pkgname)), call. = FALSE, domain = NA)"
     ]
    }
   ],
   "source": [
    "set.seed(18725)\n",
    "library('caret')\n",
    "\n",
    "## Stratefied sampling\n",
    "trainPct <- .8\n",
    "testPct <- 1 - trainPct\n",
    "inTrain <- createDataPartition(y = df$def_next_month, p = trainPct, list = FALSE)\n",
    "Train <- df[inTrain,]\n",
    "Test <- df[-inTrain,]\n",
    "stopifnot(nrow(Train) + nrow(Test) == nrow(df))\n",
    "\n",
    "yVar <- 'def_next_month'\n",
    "exclude <- c('id')\n",
    "xVars <- names(df)[!names(df) %in% c(yVar, exclude)]\n",
    "\n",
    "## createModelFormula already created above\n",
    "\n",
    "modelFormGlm <- createModelFormula(yVar, xVars)\n",
    "GlmModel <- glm(modelFormGlm,family=binomial(link='logit'),data = Train)\n",
    "summary(GlmModel)\n",
    "## Null deviance: 25223  on 23999  degrees of freedom\n",
    "## Residual deviance: 22103  on 23973  degrees of freedom\n",
    "## AIC: 22157\n",
    "\n",
    "## Classify test data\n",
    "fitted.results <- predict(GlmModel, newdata = Test[,xVars], type='response')\n",
    "default.pred <- ifelse(fitted.results > 0.5,1,0)\n",
    "\n",
    "## Measure performance\n",
    "confusion <- confusionMatrix(data = default.pred\n",
    "                             , reference = unlist(Test[,'def_next_month'])\n",
    "                             , dnn = c(\"Predicted Default\", 'Actual Default')\n",
    ")\n",
    "confusion\n",
    "\n",
    "## Accuracy : 0.8015 \n",
    "## Sensitivity : 0.9708          \n",
    "## Specificity : 0.2364\n",
    "## We can see specificity is not very high"
   ]
  },
  {
   "cell_type": "markdown",
   "metadata": {},
   "source": [
    "Using forward selection, determine the best model."
   ]
  },
  {
   "cell_type": "code",
   "execution_count": null,
   "metadata": {
    "collapsed": true
   },
   "outputs": [],
   "source": [
    "## Fitting full data\n",
    "\n",
    "library(leaps)\n",
    "\n",
    "fullformulaNoPK <- createModelFormula(yVar, xVars)\n",
    "\n",
    "nothing <- glm(def_next_month ~ 1, family=binomial(link='logit'), data = df)\n",
    "fwmodel <- step(nothing, direction='forward', scope =list(lower=formula(nothing),upper=fullformulaNoPK ))\n",
    "formula(fwmodel)\n",
    "## Below is the best model generated\n",
    "## AIC=27886.47\n",
    "## Features: \n",
    "## def_next_month ~ limit_bal + sex + education + marriage + age + \n",
    "## pay_1 + pay_2 + pay_3 + pay_5 +\n",
    "## bill_amt1 + bill_amt2 + bill_amt3 +\n",
    "## pay_amt1 + pay_amt2 + pay_amt3 + pay_amt4 + pay_amt5 + pay_amt6 "
   ]
  },
  {
   "cell_type": "markdown",
   "metadata": {},
   "source": [
    "Using the manual backwards selection function, determine the best model"
   ]
  },
  {
   "cell_type": "code",
   "execution_count": null,
   "metadata": {
    "collapsed": true
   },
   "outputs": [],
   "source": [
    "backwards(fullformulaNoPK, df)\n",
    "## Below is the best model generated\n",
    "## AIC : 28420.68\n",
    "## Features:\n",
    "## def_next_month ~ limit_bal + sex + education + marriage + age + \n",
    "## pay_1 + pay_2 + pay_3 + pay_5 + \n",
    "## bill_amt1 + bill_amt2 + \n",
    "## pay_amt1 + pay_amt2 + pay_amt4 + pay_amt5"
   ]
  },
  {
   "cell_type": "markdown",
   "metadata": {},
   "source": [
    "Run an implementation of backwards selection found in an R package on this data set. Note any differences between the results of this implementation and manual implementation."
   ]
  },
  {
   "cell_type": "code",
   "execution_count": null,
   "metadata": {
    "collapsed": true
   },
   "outputs": [],
   "source": [
    "library(rms)\n",
    "ols.full <- ols(fullformulaNoPK, data = df)\n",
    "bwmodel <- fastbw(ols.full, rule = \"p\", sls = 0.1)\n",
    "bwmodel\n",
    "## Features:\n",
    "## def_next_month ~ limit_bal + sex + education + marriage + age + \n",
    "## pay_1 + pay_2 + pay_3 + pay_5 + \n",
    "## bill_amt1 + \n",
    "## pay_amt1 + pay_amt2\n",
    "## fastbw considers less number of features to be important than the manual backward."
   ]
  },
  {
   "cell_type": "markdown",
   "metadata": {},
   "source": [
    "Lasso regression on the data set"
   ]
  },
  {
   "cell_type": "code",
   "execution_count": null,
   "metadata": {
    "collapsed": true
   },
   "outputs": [],
   "source": [
    "library(glmnet)\n",
    "set.seed(18725)\n",
    "formulaGLM <- paste(xVars, collapse = ' + ')\n",
    "modelStrGLM <- paste('~ 0 +',formulaGLM)\n",
    "xFormulaGlm <- as.formula(modelStrGLM)\n",
    "yFormulaGlm <- as.formula('~ 0 + def_next_month')\n",
    "\n",
    "## Split Stratefied sampling into x and y\n",
    "xTrain <- Train[, ! names(Train) %in% c(\"def_next_month\")]\n",
    "yTrain <- Train[,\"def_next_month\"]\n",
    "xTest <- Test[, ! names(Test) %in% c(\"def_next_month\")]\n",
    "yTest <- Test[,\"def_next_month\"]\n",
    "\n",
    "## Convert model matrix\n",
    "xTrain <- model.matrix(xFormulaGlm, data=xTrain)\n",
    "yTrain <- model.matrix(yFormulaGlm, data=yTrain)\n",
    "xTest <- model.matrix(xFormulaGlm, data=xTest)\n",
    "yTest <- model.matrix(yFormulaGlm, data=yTest)\n",
    "\n",
    "## alpha = 1 for Lasso \n",
    "cvfit = cv.glmnet(xTrain, yTrain, alpha=1, family='binomial',type.measure=\"mse\")\n",
    "plot(cvfit)\n",
    "print(cvfit)\n",
    "  ## cvfit$lambda.min = 0.0002208019\n",
    "  ## cvfit$lambda.1se = 0.0100131\n",
    "  ## coef(cvfit, s = \"lambda.min\")\n",
    "pred_yTest <- predict(cvfit, newx = xTest, s = \"lambda.min\", type = \"response\")\n",
    "\n",
    "## Plot confusion matrix\n",
    "default.pred <- ifelse(pred_yTest > 0.5,1,0)\n",
    "\n",
    "## Measure performance\n",
    "confusion <- confusionMatrix(data = default.pred\n",
    "                             , reference = unlist(yTest)\n",
    "                             , dnn = c(\"Predicted Default\", 'Actual Default'))\n",
    "confusion\n",
    "\n",
    "## Accuracy : 0.801\n",
    "## Sensitivity : 0.9753         \n",
    "## Specificity : 0.2075\n",
    "                    ## Actual Default\n",
    "## Predicted Default    0    1\n",
    "                ## 0 4482 1059\n",
    "                ## 1  135  324\n",
    "## Lasso data is one hot encoded.\n",
    "## Alpha is kept as 1 for Lasso in glmnet\n",
    "## Plot cvfit gives two horizontal bars for lambda values and minimun is selected.\n",
    "## Mean Squared measure is used and minimum lambda is the selected S value"
   ]
  },
  {
   "cell_type": "markdown",
   "metadata": {},
   "source": [
    "Ridge regression on the data set"
   ]
  },
  {
   "cell_type": "code",
   "execution_count": null,
   "metadata": {
    "collapsed": true
   },
   "outputs": [],
   "source": [
    "set.seed(18725)\n",
    "## alpha = 0 for Ridge \n",
    "cvfit = cv.glmnet(xTrain, yTrain, alpha=0, family='binomial',type.measure=\"mse\")\n",
    "pred_yTest <- predict(cvfit, newx = xTest, s = \"lambda.min\", type = \"response\")\n",
    "plot(cvfit)\n",
    "\n",
    "## Plot confusion matrix\n",
    "default.pred <- ifelse(pred_yTest > 0.5,1,0)\n",
    "\n",
    "## Measure performance\n",
    "confusion <- confusionMatrix(data = default.pred\n",
    "                             , reference = unlist(yTest)\n",
    "                             , dnn = c(\"Predicted Default\", 'Actual Default'))\n",
    "confusion\n",
    "\n",
    "## Accuracy : 0.7983\n",
    "## Sensitivity : 0.9753         \n",
    "## Specificity : 0.2075\n",
    "\n",
    "## Ridge data is one hot encoded.\n",
    "## Alpha is kept as 0 for Lasso in glmnet\n",
    "## Plot cvfit gives two horizontal bars for lambda values and minimun is selected.\n",
    "## Mean Squared measure is used and minimum lambda is the selected S value"
   ]
  },
  {
   "cell_type": "markdown",
   "metadata": {},
   "source": [
    "Naive bayes on the data set"
   ]
  },
  {
   "cell_type": "code",
   "execution_count": null,
   "metadata": {
    "collapsed": true
   },
   "outputs": [],
   "source": [
    "library(e1071)\n",
    "NB <- naiveBayes(fullformulaNoPK , data = Train)\n",
    "probs <- predict(NB, newdata = Test, type = 'raw')\n",
    "default.pred <- (probs[,'0'] <= probs[,'1'])*1\n",
    "\n",
    "## Measure performance\n",
    "confusion <- confusionMatrix(data = default.pred\n",
    "                             , reference = unlist(Test[,'def_next_month'])\n",
    "                             , dnn = c(\"Predicted Default\", 'Actual Default'))\n",
    "confusion\n",
    "## Accuracy : 0.6733\n",
    "## Sensitivity : 0.6656          \n",
    "## Specificity : 0.6992\n",
    "                  ## Actual Default\n",
    "## Predicted Default    0    1\n",
    "                  ## 0 3073  416\n",
    "                  ## 1 1544  967"
   ]
  },
  {
   "cell_type": "markdown",
   "metadata": {},
   "source": [
    "Decision tree to classify the customers as defaulted or not-defaulted"
   ]
  },
  {
   "cell_type": "code",
   "execution_count": null,
   "metadata": {
    "collapsed": true
   },
   "outputs": [],
   "source": [
    "library(rpart)\n",
    "DT <- rpart(fullformulaNoPK, data=Train, method=\"class\")\n",
    "summary(DT)\n",
    "default.pred <- predict(DT, Test, type = \"class\")\n",
    "\n",
    "## Measure performance\n",
    "confusion <- confusionMatrix(data = default.pred\n",
    "                             , reference = unlist(Test[,'def_next_month'])\n",
    "                             , dnn = c(\"Predicted Default\", 'Actual Default'))\n",
    "confusion\n",
    "## Accuracy : 0.8103\n",
    "## Sensitivity : 0.9580          \n",
    "## Specificity : 0.3174\n",
    "                  ## Actual Default\n",
    "## Predicted Default    0    1\n",
    "                  ## 0 4423  944\n",
    "                  ## 1  194  439\n",
    "## Pay_1 is the most important feature\n",
    "## Plot decision tree\n",
    "library('rattle')\n",
    "library('rpart.plot')\n",
    "fancyRpartPlot(DT)"
   ]
  },
  {
   "cell_type": "markdown",
   "metadata": {},
   "source": [
    "Random Forest on the data set"
   ]
  },
  {
   "cell_type": "code",
   "execution_count": null,
   "metadata": {
    "collapsed": true
   },
   "outputs": [],
   "source": [
    "library(randomForest)\n",
    "\n",
    "fullformulaYFactored <- createModelFormula('as.factor(def_next_month)', xVars)\n",
    "RF <- randomForest(fullformulaYFactored, data=Train, importance=TRUE, ntree=200)\n",
    "RF\n",
    "importance(RF, type=2)\n",
    "default.pred <- predict(RF, Test, type = \"class\")\n",
    "\n",
    "## Measure performance\n",
    "confusion <- confusionMatrix(data = default.pred\n",
    "                             , reference = unlist(Test[,'def_next_month'])\n",
    "                             , dnn = c(\"Predicted Default\", 'Actual Default'))\n",
    "confusion\n",
    "## Accuracy : 0.812\n",
    "## Sensitivity : 0.9452          \n",
    "## Specificity : 0.3673"
   ]
  },
  {
   "cell_type": "markdown",
   "metadata": {},
   "source": [
    "Summary ::\n",
    "Naive Bayes is not a good fit.\n",
    "glm, DT, Random Forest has an accuracy close to each other.\n",
    "Lasso glm has more or less same performance as glm with full set. Ridge is lower.\n",
    "Random forest has slightly better accuracy with 200 trees.\n",
    "Sensitivity is high for glm and lasso but specificity reduces.\n",
    "Random forest has a better balance of accuracy, sensitivity and specificity.\n",
    "Random forest might be best suited for this. Performance can be improved more by parameter tuning."
   ]
  }
 ],
 "metadata": {
  "kernelspec": {
   "display_name": "R",
   "language": "R",
   "name": "ir"
  },
  "language_info": {
   "codemirror_mode": "r",
   "file_extension": ".r",
   "mimetype": "text/x-r-source",
   "name": "R",
   "pygments_lexer": "r",
   "version": "3.3.2"
  }
 },
 "nbformat": 4,
 "nbformat_minor": 2
}
